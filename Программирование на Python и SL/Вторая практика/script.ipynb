{
 "cells": [
  {
   "cell_type": "code",
   "execution_count": 1,
   "metadata": {},
   "outputs": [],
   "source": [
    "import sqlalchemy\n",
    "import datetime\n",
    "from sqlalchemy import create_engine\n",
    "\n",
    "engine = create_engine('sqlite:///listings.db')\n",
    "\n",
    "from sqlalchemy import (MetaData, Table, Column, Integer, Numeric, String, DateTime, Boolean, \n",
    "                        ForeignKey, create_engine)\n",
    "                        \n",
    "metadata = MetaData()\n",
    "\n",
    "employees=Table('employees',metadata,\n",
    "               Column('id',Integer(),primary_key=True),\n",
    "               Column('name',String(32),nullable=False),\n",
    "               Column('surname',String(32),nullable=False),\n",
    "               Column('birthdate',DateTime(),nullable=False),\n",
    "               Column('position',String(32),nullable=False),\n",
    "               Column('salary',Integer(),nullable=False),\n",
    "               Column('contract_date',DateTime(),nullable=False),\n",
    "               extend_existing=True\n",
    "              )\n",
    "\n",
    "personal_info=Table('personal_info',metadata,\n",
    "               Column('id',Integer(),primary_key=True),\n",
    "               Column('city',String(32),nullable=False),\n",
    "               Column('birthdate',DateTime(),nullable=False),\n",
    "               Column('adress_one',String(32),nullable=False),\n",
    "               Column('adress_two',String(32)),\n",
    "               Column('postal_code',Integer(),nullable=False),\n",
    "               Column('phone_one',String(32),nullable=False),\n",
    "               Column('phone_two',String(32)),\n",
    "               extend_existing=True\n",
    "              )\n",
    "\n",
    "clients=Table('clients',metadata,\n",
    "               Column('id',Integer(),primary_key=True),\n",
    "               Column('name',String(32),nullable=False),\n",
    "               Column('surname',String(32),nullable=False),\n",
    "               Column('online_client',Boolean(), nullable=False, default=False),\n",
    "               Column('personal_info_id',Integer(), ForeignKey('personal_info.id')),\n",
    "               extend_existing=True\n",
    "              )\n",
    "\n",
    "online_login_data=Table('online_login_data',metadata,\n",
    "               Column('id',Integer(),primary_key=True),\n",
    "               Column('login',String(32),nullable=False),\n",
    "               Column('password',String(32),nullable=False),\n",
    "               Column('keyword',String(32)),\n",
    "               Column('client_id',Integer(), ForeignKey('clients.id')),\n",
    "               extend_existing=True\n",
    "              )\n",
    "\n",
    "accounts=Table('accounts',metadata,\n",
    "               Column('number',Integer(),primary_key=True),\n",
    "               Column('type',Integer(),nullable=False),\n",
    "               Column('balance',Integer(), nullable=False, default=0),               \n",
    "               Column('code',String(32), nullable=False),\n",
    "               extend_existing=True\n",
    "              )\n",
    "\n",
    "cards=Table('cards',metadata,\n",
    "               Column('id',Integer(),primary_key=True),\n",
    "               Column('card_number',String(32), nullable=False),\n",
    "               Column('type',Integer(), nullable=False, default=0),\n",
    "               Column('issue_date', DateTime(), nullable=False),\n",
    "               Column('exp_date', DateTime(), nullable=False),\n",
    "               Column('cvv', Integer(), nullable=False),\n",
    "               Column('blocked',Boolean()),\n",
    "               Column('client_id',Integer(), ForeignKey('clients.id')),\n",
    "               Column('account_number',Integer(), ForeignKey('accounts.number')),\n",
    "               extend_existing=True\n",
    "              )\n",
    "\n",
    "client_account=Table('client_account',metadata,\n",
    "               Column('id',Integer(),primary_key=True),\n",
    "               Column('client_id',Integer(), ForeignKey('clients.id')),\n",
    "               Column('account_id',Integer(), ForeignKey('accounts.number')),\n",
    "               extend_existing=True\n",
    "              )\n",
    "\n",
    "metadata.create_all(engine)"
   ]
  },
  {
   "cell_type": "code",
   "execution_count": null,
   "metadata": {},
   "outputs": [],
   "source": [
    "connection=engine.connect()"
   ]
  },
  {
   "cell_type": "code",
   "execution_count": 3,
   "metadata": {},
   "outputs": [],
   "source": [
    "ins = employees.insert().values(\n",
    "    id=1,\n",
    "    name='Никита',\n",
    "    surname='Гладкий',\n",
    "    birthdate=datetime.date(2001, 3, 2),\n",
    "    position='Бухгалтер',\n",
    "    salary=100,\n",
    "    contract_date=datetime.date(2021, 2, 19)\n",
    ")"
   ]
  },
  {
   "cell_type": "code",
   "execution_count": 4,
   "metadata": {},
   "outputs": [
    {
     "data": {
      "text/plain": [
       "[1]"
      ]
     },
     "execution_count": 4,
     "metadata": {},
     "output_type": "execute_result"
    }
   ],
   "source": [
    "result=connection.execute(ins)\n",
    "result.inserted_primary_key"
   ]
  },
  {
   "cell_type": "code",
   "execution_count": 5,
   "metadata": {},
   "outputs": [],
   "source": [
    "ins = employees.insert().values(\n",
    "    id=2,\n",
    "    name='Артем',\n",
    "    surname='Теплов',\n",
    "    birthdate=datetime.date(2000, 12, 19),\n",
    "    position='Охранник',\n",
    "    salary=250,\n",
    "    contract_date=datetime.date(2020, 9, 6)\n",
    ")"
   ]
  },
  {
   "cell_type": "code",
   "execution_count": 6,
   "metadata": {},
   "outputs": [
    {
     "data": {
      "text/plain": [
       "[2]"
      ]
     },
     "execution_count": 6,
     "metadata": {},
     "output_type": "execute_result"
    }
   ],
   "source": [
    "result=connection.execute(ins)\n",
    "result.inserted_primary_key"
   ]
  },
  {
   "cell_type": "code",
   "execution_count": 20,
   "metadata": {},
   "outputs": [],
   "source": [
    "ins = employees.insert().values(\n",
    "    id=3,\n",
    "    name='Максим',\n",
    "    surname='Касимов',\n",
    "    birthdate=datetime.date(2001, 1, 29),\n",
    "    position='Охранник',\n",
    "    salary=350,\n",
    "    contract_date=datetime.date(2021, 1, 11)\n",
    ")"
   ]
  },
  {
   "cell_type": "code",
   "execution_count": 21,
   "metadata": {},
   "outputs": [
    {
     "data": {
      "text/plain": [
       "[3]"
      ]
     },
     "execution_count": 21,
     "metadata": {},
     "output_type": "execute_result"
    }
   ],
   "source": [
    "result=connection.execute(ins)\n",
    "result.inserted_primary_key"
   ]
  },
  {
   "cell_type": "code",
   "execution_count": 7,
   "metadata": {},
   "outputs": [],
   "source": [
    "ins = personal_info.insert().values(\n",
    "    id=1,\n",
    "    city='Москва',\n",
    "    birthdate=datetime.date(2001, 3, 2),\n",
    "    adress_one='Общага',\n",
    "    postal_code=139174,\n",
    "    phone_one='89640746281'\n",
    ")"
   ]
  },
  {
   "cell_type": "code",
   "execution_count": 8,
   "metadata": {},
   "outputs": [
    {
     "data": {
      "text/plain": [
       "[1]"
      ]
     },
     "execution_count": 8,
     "metadata": {},
     "output_type": "execute_result"
    }
   ],
   "source": [
    "result=connection.execute(ins)\n",
    "result.inserted_primary_key"
   ]
  },
  {
   "cell_type": "code",
   "execution_count": 22,
   "metadata": {},
   "outputs": [],
   "source": [
    "ins = personal_info.insert().values(\n",
    "    id=2,\n",
    "    city='Москва',\n",
    "    birthdate=datetime.date(1972, 8, 22),\n",
    "    adress_one='Щербаковская 38, к.504',\n",
    "    postal_code=441231,\n",
    "    phone_one='89859876555'\n",
    ")"
   ]
  },
  {
   "cell_type": "code",
   "execution_count": 23,
   "metadata": {},
   "outputs": [
    {
     "data": {
      "text/plain": [
       "[2]"
      ]
     },
     "execution_count": 23,
     "metadata": {},
     "output_type": "execute_result"
    }
   ],
   "source": [
    "result=connection.execute(ins)\n",
    "result.inserted_primary_key"
   ]
  },
  {
   "cell_type": "code",
   "execution_count": 9,
   "metadata": {},
   "outputs": [],
   "source": [
    "ins = clients.insert().values(\n",
    "    id=1,\n",
    "    name='Катя',\n",
    "    surname='Прищепа',\n",
    "    online_client=True,\n",
    "    personal_info_id=1\n",
    ")"
   ]
  },
  {
   "cell_type": "code",
   "execution_count": 10,
   "metadata": {},
   "outputs": [
    {
     "data": {
      "text/plain": [
       "[1]"
      ]
     },
     "execution_count": 10,
     "metadata": {},
     "output_type": "execute_result"
    }
   ],
   "source": [
    "result=connection.execute(ins)\n",
    "result.inserted_primary_key"
   ]
  },
  {
   "cell_type": "code",
   "execution_count": 24,
   "metadata": {},
   "outputs": [],
   "source": [
    "ins = clients.insert().values(\n",
    "    id=2,\n",
    "    name='Дмитрий',\n",
    "    surname='Кораблев',\n",
    "    online_client=False,\n",
    "    personal_info_id=2\n",
    ")"
   ]
  },
  {
   "cell_type": "code",
   "execution_count": 25,
   "metadata": {},
   "outputs": [
    {
     "data": {
      "text/plain": [
       "[2]"
      ]
     },
     "execution_count": 25,
     "metadata": {},
     "output_type": "execute_result"
    }
   ],
   "source": [
    "result=connection.execute(ins)\n",
    "result.inserted_primary_key"
   ]
  },
  {
   "cell_type": "code",
   "execution_count": 15,
   "metadata": {},
   "outputs": [],
   "source": [
    "ins = accounts.insert().values(\n",
    "    number=1,\n",
    "    type=0,\n",
    "    code='ZIP0921'\n",
    ")"
   ]
  },
  {
   "cell_type": "code",
   "execution_count": 16,
   "metadata": {},
   "outputs": [
    {
     "data": {
      "text/plain": [
       "[1]"
      ]
     },
     "execution_count": 16,
     "metadata": {},
     "output_type": "execute_result"
    }
   ],
   "source": [
    "result=connection.execute(ins)\n",
    "result.inserted_primary_key"
   ]
  },
  {
   "cell_type": "code",
   "execution_count": 26,
   "metadata": {},
   "outputs": [],
   "source": [
    "ins = accounts.insert().values(\n",
    "    number=2,\n",
    "    type=2,\n",
    "    code='ZIP1311'\n",
    ")"
   ]
  },
  {
   "cell_type": "code",
   "execution_count": 27,
   "metadata": {},
   "outputs": [
    {
     "data": {
      "text/plain": [
       "[2]"
      ]
     },
     "execution_count": 27,
     "metadata": {},
     "output_type": "execute_result"
    }
   ],
   "source": [
    "result=connection.execute(ins)\n",
    "result.inserted_primary_key"
   ]
  },
  {
   "cell_type": "code",
   "execution_count": 17,
   "metadata": {},
   "outputs": [],
   "source": [
    "ins = cards.insert().values(\n",
    "    id=1,\n",
    "    card_number='3313 1331 4416 1340',\n",
    "    type=0,\n",
    "    issue_date=datetime.date(2019, 6, 6),\n",
    "    exp_date=datetime.date(2023, 6, 7),\n",
    "    cvv=331,\n",
    "    blocked=False,\n",
    "    client_id=1,\n",
    "    account_number=1\n",
    ")"
   ]
  },
  {
   "cell_type": "code",
   "execution_count": 18,
   "metadata": {},
   "outputs": [
    {
     "data": {
      "text/plain": [
       "[1]"
      ]
     },
     "execution_count": 18,
     "metadata": {},
     "output_type": "execute_result"
    }
   ],
   "source": [
    "result=connection.execute(ins)\n",
    "result.inserted_primary_key"
   ]
  },
  {
   "cell_type": "code",
   "execution_count": 28,
   "metadata": {},
   "outputs": [],
   "source": [
    "ins = cards.insert().values(\n",
    "    id=2,\n",
    "    card_number='1593 5718 0013 0001',\n",
    "    type=0,\n",
    "    issue_date=datetime.date(2016, 12, 15),\n",
    "    exp_date=datetime.date(2020, 6, 7),\n",
    "    cvv=901,\n",
    "    blocked=True,\n",
    "    client_id=2,\n",
    "    account_number=2\n",
    ")"
   ]
  },
  {
   "cell_type": "code",
   "execution_count": 29,
   "metadata": {},
   "outputs": [
    {
     "data": {
      "text/plain": [
       "[2]"
      ]
     },
     "execution_count": 29,
     "metadata": {},
     "output_type": "execute_result"
    }
   ],
   "source": [
    "result=connection.execute(ins)\n",
    "result.inserted_primary_key"
   ]
  },
  {
   "cell_type": "code",
   "execution_count": 31,
   "metadata": {},
   "outputs": [],
   "source": [
    "ins = client_account.insert().values(\n",
    "    id=1,\n",
    "    client_id=1,\n",
    "    account_id=1\n",
    ")"
   ]
  },
  {
   "cell_type": "code",
   "execution_count": 32,
   "metadata": {},
   "outputs": [
    {
     "data": {
      "text/plain": [
       "[1]"
      ]
     },
     "execution_count": 32,
     "metadata": {},
     "output_type": "execute_result"
    }
   ],
   "source": [
    "result=connection.execute(ins)\n",
    "result.inserted_primary_key"
   ]
  },
  {
   "cell_type": "code",
   "execution_count": 35,
   "metadata": {},
   "outputs": [],
   "source": [
    "ins = client_account.insert().values(\n",
    "    id=2,\n",
    "    client_id=2,\n",
    "    account_id=2\n",
    ")"
   ]
  },
  {
   "cell_type": "code",
   "execution_count": 36,
   "metadata": {},
   "outputs": [
    {
     "data": {
      "text/plain": [
       "[2]"
      ]
     },
     "execution_count": 36,
     "metadata": {},
     "output_type": "execute_result"
    }
   ],
   "source": [
    "result=connection.execute(ins)\n",
    "result.inserted_primary_key"
   ]
  },
  {
   "cell_type": "code",
   "execution_count": 37,
   "metadata": {},
   "outputs": [],
   "source": [
    "ins = online_login_data.insert().values(\n",
    "    id=1,\n",
    "    login='dubrovina',\n",
    "    password='fvokdejvi9j29dj2envef0n92',\n",
    "    keyword='Мурзик',\n",
    "    client_id=1,\n",
    ")"
   ]
  },
  {
   "cell_type": "code",
   "execution_count": 38,
   "metadata": {},
   "outputs": [
    {
     "data": {
      "text/plain": [
       "[1]"
      ]
     },
     "execution_count": 38,
     "metadata": {},
     "output_type": "execute_result"
    }
   ],
   "source": [
    "result=connection.execute(ins)\n",
    "result.inserted_primary_key"
   ]
  },
  {
   "cell_type": "code",
   "execution_count": 52,
   "metadata": {},
   "outputs": [
    {
     "data": {
      "text/html": [
       "<div>\n",
       "<style scoped>\n",
       "    .dataframe tbody tr th:only-of-type {\n",
       "        vertical-align: middle;\n",
       "    }\n",
       "\n",
       "    .dataframe tbody tr th {\n",
       "        vertical-align: top;\n",
       "    }\n",
       "\n",
       "    .dataframe thead th {\n",
       "        text-align: right;\n",
       "    }\n",
       "</style>\n",
       "<table border=\"1\" class=\"dataframe\">\n",
       "  <thead>\n",
       "    <tr style=\"text-align: right;\">\n",
       "      <th></th>\n",
       "      <th>0</th>\n",
       "      <th>1</th>\n",
       "      <th>2</th>\n",
       "      <th>3</th>\n",
       "      <th>4</th>\n",
       "      <th>5</th>\n",
       "      <th>6</th>\n",
       "      <th>7</th>\n",
       "    </tr>\n",
       "  </thead>\n",
       "  <tbody>\n",
       "    <tr>\n",
       "      <th>0</th>\n",
       "      <td>1</td>\n",
       "      <td>Москва</td>\n",
       "      <td>2001-03-02</td>\n",
       "      <td>Общага</td>\n",
       "      <td>None</td>\n",
       "      <td>139174</td>\n",
       "      <td>89640746281</td>\n",
       "      <td>None</td>\n",
       "    </tr>\n",
       "    <tr>\n",
       "      <th>1</th>\n",
       "      <td>2</td>\n",
       "      <td>Москва</td>\n",
       "      <td>1972-08-22</td>\n",
       "      <td>Щербаковская 38, к.504</td>\n",
       "      <td>None</td>\n",
       "      <td>441231</td>\n",
       "      <td>89859876555</td>\n",
       "      <td>None</td>\n",
       "    </tr>\n",
       "  </tbody>\n",
       "</table>\n",
       "</div>"
      ],
      "text/plain": [
       "   0       1          2                       3     4       5            6  \\\n",
       "0  1  Москва 2001-03-02                  Общага  None  139174  89640746281   \n",
       "1  2  Москва 1972-08-22  Щербаковская 38, к.504  None  441231  89859876555   \n",
       "\n",
       "      7  \n",
       "0  None  \n",
       "1  None  "
      ]
     },
     "execution_count": 52,
     "metadata": {},
     "output_type": "execute_result"
    }
   ],
   "source": [
    "from sqlalchemy.sql import select\n",
    "import pandas as pd\n",
    "s = select([personal_info])  \n",
    "rp = connection.execute(s)\n",
    "results = pd.DataFrame(rp.fetchall()) \n",
    "results"
   ]
  },
  {
   "cell_type": "code",
   "execution_count": 53,
   "metadata": {},
   "outputs": [
    {
     "data": {
      "text/html": [
       "<div>\n",
       "<style scoped>\n",
       "    .dataframe tbody tr th:only-of-type {\n",
       "        vertical-align: middle;\n",
       "    }\n",
       "\n",
       "    .dataframe tbody tr th {\n",
       "        vertical-align: top;\n",
       "    }\n",
       "\n",
       "    .dataframe thead th {\n",
       "        text-align: right;\n",
       "    }\n",
       "</style>\n",
       "<table border=\"1\" class=\"dataframe\">\n",
       "  <thead>\n",
       "    <tr style=\"text-align: right;\">\n",
       "      <th></th>\n",
       "      <th>0</th>\n",
       "      <th>1</th>\n",
       "      <th>2</th>\n",
       "      <th>3</th>\n",
       "      <th>4</th>\n",
       "    </tr>\n",
       "  </thead>\n",
       "  <tbody>\n",
       "    <tr>\n",
       "      <th>0</th>\n",
       "      <td>1</td>\n",
       "      <td>Катя</td>\n",
       "      <td>Прищепа</td>\n",
       "      <td>True</td>\n",
       "      <td>1</td>\n",
       "    </tr>\n",
       "    <tr>\n",
       "      <th>1</th>\n",
       "      <td>2</td>\n",
       "      <td>Дмитрий</td>\n",
       "      <td>Кораблев</td>\n",
       "      <td>False</td>\n",
       "      <td>2</td>\n",
       "    </tr>\n",
       "  </tbody>\n",
       "</table>\n",
       "</div>"
      ],
      "text/plain": [
       "   0        1         2      3  4\n",
       "0  1     Катя   Прищепа   True  1\n",
       "1  2  Дмитрий  Кораблев  False  2"
      ]
     },
     "execution_count": 53,
     "metadata": {},
     "output_type": "execute_result"
    }
   ],
   "source": [
    "s = select([clients])  \n",
    "rp = connection.execute(s)\n",
    "results = pd.DataFrame(rp.fetchall()) \n",
    "results"
   ]
  },
  {
   "cell_type": "code",
   "execution_count": 54,
   "metadata": {},
   "outputs": [
    {
     "data": {
      "text/html": [
       "<div>\n",
       "<style scoped>\n",
       "    .dataframe tbody tr th:only-of-type {\n",
       "        vertical-align: middle;\n",
       "    }\n",
       "\n",
       "    .dataframe tbody tr th {\n",
       "        vertical-align: top;\n",
       "    }\n",
       "\n",
       "    .dataframe thead th {\n",
       "        text-align: right;\n",
       "    }\n",
       "</style>\n",
       "<table border=\"1\" class=\"dataframe\">\n",
       "  <thead>\n",
       "    <tr style=\"text-align: right;\">\n",
       "      <th></th>\n",
       "      <th>0</th>\n",
       "      <th>1</th>\n",
       "      <th>2</th>\n",
       "      <th>3</th>\n",
       "    </tr>\n",
       "  </thead>\n",
       "  <tbody>\n",
       "    <tr>\n",
       "      <th>0</th>\n",
       "      <td>1</td>\n",
       "      <td>0</td>\n",
       "      <td>0</td>\n",
       "      <td>ZIP0921</td>\n",
       "    </tr>\n",
       "    <tr>\n",
       "      <th>1</th>\n",
       "      <td>2</td>\n",
       "      <td>2</td>\n",
       "      <td>0</td>\n",
       "      <td>ZIP1311</td>\n",
       "    </tr>\n",
       "  </tbody>\n",
       "</table>\n",
       "</div>"
      ],
      "text/plain": [
       "   0  1  2        3\n",
       "0  1  0  0  ZIP0921\n",
       "1  2  2  0  ZIP1311"
      ]
     },
     "execution_count": 54,
     "metadata": {},
     "output_type": "execute_result"
    }
   ],
   "source": [
    "s = select([accounts])  \n",
    "rp = connection.execute(s)\n",
    "results = pd.DataFrame(rp.fetchall()) \n",
    "results"
   ]
  },
  {
   "cell_type": "code",
   "execution_count": 55,
   "metadata": {},
   "outputs": [
    {
     "data": {
      "text/html": [
       "<div>\n",
       "<style scoped>\n",
       "    .dataframe tbody tr th:only-of-type {\n",
       "        vertical-align: middle;\n",
       "    }\n",
       "\n",
       "    .dataframe tbody tr th {\n",
       "        vertical-align: top;\n",
       "    }\n",
       "\n",
       "    .dataframe thead th {\n",
       "        text-align: right;\n",
       "    }\n",
       "</style>\n",
       "<table border=\"1\" class=\"dataframe\">\n",
       "  <thead>\n",
       "    <tr style=\"text-align: right;\">\n",
       "      <th></th>\n",
       "      <th>0</th>\n",
       "      <th>1</th>\n",
       "      <th>2</th>\n",
       "    </tr>\n",
       "  </thead>\n",
       "  <tbody>\n",
       "    <tr>\n",
       "      <th>0</th>\n",
       "      <td>1</td>\n",
       "      <td>1</td>\n",
       "      <td>1</td>\n",
       "    </tr>\n",
       "    <tr>\n",
       "      <th>1</th>\n",
       "      <td>2</td>\n",
       "      <td>2</td>\n",
       "      <td>2</td>\n",
       "    </tr>\n",
       "  </tbody>\n",
       "</table>\n",
       "</div>"
      ],
      "text/plain": [
       "   0  1  2\n",
       "0  1  1  1\n",
       "1  2  2  2"
      ]
     },
     "execution_count": 55,
     "metadata": {},
     "output_type": "execute_result"
    }
   ],
   "source": [
    "s = select([client_account])  \n",
    "rp = connection.execute(s)\n",
    "results = pd.DataFrame(rp.fetchall()) \n",
    "results"
   ]
  },
  {
   "cell_type": "code",
   "execution_count": 56,
   "metadata": {},
   "outputs": [
    {
     "data": {
      "text/html": [
       "<div>\n",
       "<style scoped>\n",
       "    .dataframe tbody tr th:only-of-type {\n",
       "        vertical-align: middle;\n",
       "    }\n",
       "\n",
       "    .dataframe tbody tr th {\n",
       "        vertical-align: top;\n",
       "    }\n",
       "\n",
       "    .dataframe thead th {\n",
       "        text-align: right;\n",
       "    }\n",
       "</style>\n",
       "<table border=\"1\" class=\"dataframe\">\n",
       "  <thead>\n",
       "    <tr style=\"text-align: right;\">\n",
       "      <th></th>\n",
       "      <th>0</th>\n",
       "      <th>1</th>\n",
       "      <th>2</th>\n",
       "      <th>3</th>\n",
       "      <th>4</th>\n",
       "    </tr>\n",
       "  </thead>\n",
       "  <tbody>\n",
       "    <tr>\n",
       "      <th>0</th>\n",
       "      <td>1</td>\n",
       "      <td>dubrovina</td>\n",
       "      <td>fvokdejvi9j29dj2envef0n92</td>\n",
       "      <td>Мурзик</td>\n",
       "      <td>1</td>\n",
       "    </tr>\n",
       "  </tbody>\n",
       "</table>\n",
       "</div>"
      ],
      "text/plain": [
       "   0          1                          2       3  4\n",
       "0  1  dubrovina  fvokdejvi9j29dj2envef0n92  Мурзик  1"
      ]
     },
     "execution_count": 56,
     "metadata": {},
     "output_type": "execute_result"
    }
   ],
   "source": [
    "s = select([online_login_data])  \n",
    "rp = connection.execute(s)\n",
    "results = pd.DataFrame(rp.fetchall()) \n",
    "results"
   ]
  },
  {
   "cell_type": "code",
   "execution_count": 57,
   "metadata": {},
   "outputs": [
    {
     "data": {
      "text/html": [
       "<div>\n",
       "<style scoped>\n",
       "    .dataframe tbody tr th:only-of-type {\n",
       "        vertical-align: middle;\n",
       "    }\n",
       "\n",
       "    .dataframe tbody tr th {\n",
       "        vertical-align: top;\n",
       "    }\n",
       "\n",
       "    .dataframe thead th {\n",
       "        text-align: right;\n",
       "    }\n",
       "</style>\n",
       "<table border=\"1\" class=\"dataframe\">\n",
       "  <thead>\n",
       "    <tr style=\"text-align: right;\">\n",
       "      <th></th>\n",
       "      <th>0</th>\n",
       "      <th>1</th>\n",
       "      <th>2</th>\n",
       "      <th>3</th>\n",
       "      <th>4</th>\n",
       "      <th>5</th>\n",
       "      <th>6</th>\n",
       "      <th>7</th>\n",
       "      <th>8</th>\n",
       "    </tr>\n",
       "  </thead>\n",
       "  <tbody>\n",
       "    <tr>\n",
       "      <th>0</th>\n",
       "      <td>1</td>\n",
       "      <td>3313 1331 4416 1340</td>\n",
       "      <td>0</td>\n",
       "      <td>2019-06-06</td>\n",
       "      <td>2023-06-07</td>\n",
       "      <td>331</td>\n",
       "      <td>False</td>\n",
       "      <td>1</td>\n",
       "      <td>1</td>\n",
       "    </tr>\n",
       "    <tr>\n",
       "      <th>1</th>\n",
       "      <td>2</td>\n",
       "      <td>1593 5718 0013 0001</td>\n",
       "      <td>0</td>\n",
       "      <td>2016-12-15</td>\n",
       "      <td>2020-06-07</td>\n",
       "      <td>901</td>\n",
       "      <td>True</td>\n",
       "      <td>2</td>\n",
       "      <td>2</td>\n",
       "    </tr>\n",
       "  </tbody>\n",
       "</table>\n",
       "</div>"
      ],
      "text/plain": [
       "   0                    1  2          3          4    5      6  7  8\n",
       "0  1  3313 1331 4416 1340  0 2019-06-06 2023-06-07  331  False  1  1\n",
       "1  2  1593 5718 0013 0001  0 2016-12-15 2020-06-07  901   True  2  2"
      ]
     },
     "execution_count": 57,
     "metadata": {},
     "output_type": "execute_result"
    }
   ],
   "source": [
    "s = select([cards])  \n",
    "rp = connection.execute(s)\n",
    "results = pd.DataFrame(rp.fetchall()) \n",
    "results"
   ]
  },
  {
   "cell_type": "code",
   "execution_count": null,
   "metadata": {},
   "outputs": [],
   "source": []
  }
 ],
 "metadata": {
  "kernelspec": {
   "display_name": "Python 3",
   "language": "python",
   "name": "python3"
  },
  "language_info": {
   "codemirror_mode": {
    "name": "ipython",
    "version": 3
   },
   "file_extension": ".py",
   "mimetype": "text/x-python",
   "name": "python",
   "nbconvert_exporter": "python",
   "pygments_lexer": "ipython3",
   "version": "3.6.5"
  }
 },
 "nbformat": 4,
 "nbformat_minor": 2
}
